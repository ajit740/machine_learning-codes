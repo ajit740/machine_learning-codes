{
 "cells": [
  {
   "cell_type": "code",
   "execution_count": 1,
   "id": "987a0ac9",
   "metadata": {},
   "outputs": [],
   "source": [
    "import pandas as pd \n",
    "import numpy as np \n",
    "import seaborn as sns\n",
    "import matplotlib.pyplot as plt"
   ]
  },
  {
   "cell_type": "markdown",
   "id": "1e3317c1",
   "metadata": {},
   "source": [
    "# import KMeans "
   ]
  },
  {
   "cell_type": "code",
   "execution_count": 2,
   "id": "7b990f63",
   "metadata": {},
   "outputs": [],
   "source": [
    "from sklearn.cluster import KMeans"
   ]
  },
  {
   "cell_type": "code",
   "execution_count": 3,
   "id": "d3ea85dc",
   "metadata": {},
   "outputs": [],
   "source": [
    "# read the  csv file\n",
    "df=pd.read_csv(r'C:\\Users\\Ajit\\Downloads/Country-data.csv')"
   ]
  },
  {
   "cell_type": "code",
   "execution_count": 4,
   "id": "d7478aa5",
   "metadata": {},
   "outputs": [
    {
     "data": {
      "text/html": [
       "<div>\n",
       "<style scoped>\n",
       "    .dataframe tbody tr th:only-of-type {\n",
       "        vertical-align: middle;\n",
       "    }\n",
       "\n",
       "    .dataframe tbody tr th {\n",
       "        vertical-align: top;\n",
       "    }\n",
       "\n",
       "    .dataframe thead th {\n",
       "        text-align: right;\n",
       "    }\n",
       "</style>\n",
       "<table border=\"1\" class=\"dataframe\">\n",
       "  <thead>\n",
       "    <tr style=\"text-align: right;\">\n",
       "      <th></th>\n",
       "      <th>country</th>\n",
       "      <th>child_mort</th>\n",
       "      <th>exports</th>\n",
       "      <th>health</th>\n",
       "      <th>imports</th>\n",
       "      <th>income</th>\n",
       "      <th>inflation</th>\n",
       "      <th>life_expec</th>\n",
       "      <th>total_fer</th>\n",
       "      <th>gdpp</th>\n",
       "    </tr>\n",
       "  </thead>\n",
       "  <tbody>\n",
       "    <tr>\n",
       "      <th>0</th>\n",
       "      <td>Afghanistan</td>\n",
       "      <td>90.2</td>\n",
       "      <td>10.0</td>\n",
       "      <td>7.58</td>\n",
       "      <td>44.9</td>\n",
       "      <td>1610</td>\n",
       "      <td>9.44</td>\n",
       "      <td>56.2</td>\n",
       "      <td>5.82</td>\n",
       "      <td>553</td>\n",
       "    </tr>\n",
       "    <tr>\n",
       "      <th>1</th>\n",
       "      <td>Albania</td>\n",
       "      <td>16.6</td>\n",
       "      <td>28.0</td>\n",
       "      <td>6.55</td>\n",
       "      <td>48.6</td>\n",
       "      <td>9930</td>\n",
       "      <td>4.49</td>\n",
       "      <td>76.3</td>\n",
       "      <td>1.65</td>\n",
       "      <td>4090</td>\n",
       "    </tr>\n",
       "    <tr>\n",
       "      <th>2</th>\n",
       "      <td>Algeria</td>\n",
       "      <td>27.3</td>\n",
       "      <td>38.4</td>\n",
       "      <td>4.17</td>\n",
       "      <td>31.4</td>\n",
       "      <td>12900</td>\n",
       "      <td>16.10</td>\n",
       "      <td>76.5</td>\n",
       "      <td>2.89</td>\n",
       "      <td>4460</td>\n",
       "    </tr>\n",
       "    <tr>\n",
       "      <th>3</th>\n",
       "      <td>Angola</td>\n",
       "      <td>119.0</td>\n",
       "      <td>62.3</td>\n",
       "      <td>2.85</td>\n",
       "      <td>42.9</td>\n",
       "      <td>5900</td>\n",
       "      <td>22.40</td>\n",
       "      <td>60.1</td>\n",
       "      <td>6.16</td>\n",
       "      <td>3530</td>\n",
       "    </tr>\n",
       "    <tr>\n",
       "      <th>4</th>\n",
       "      <td>Antigua and Barbuda</td>\n",
       "      <td>10.3</td>\n",
       "      <td>45.5</td>\n",
       "      <td>6.03</td>\n",
       "      <td>58.9</td>\n",
       "      <td>19100</td>\n",
       "      <td>1.44</td>\n",
       "      <td>76.8</td>\n",
       "      <td>2.13</td>\n",
       "      <td>12200</td>\n",
       "    </tr>\n",
       "    <tr>\n",
       "      <th>...</th>\n",
       "      <td>...</td>\n",
       "      <td>...</td>\n",
       "      <td>...</td>\n",
       "      <td>...</td>\n",
       "      <td>...</td>\n",
       "      <td>...</td>\n",
       "      <td>...</td>\n",
       "      <td>...</td>\n",
       "      <td>...</td>\n",
       "      <td>...</td>\n",
       "    </tr>\n",
       "    <tr>\n",
       "      <th>162</th>\n",
       "      <td>Vanuatu</td>\n",
       "      <td>29.2</td>\n",
       "      <td>46.6</td>\n",
       "      <td>5.25</td>\n",
       "      <td>52.7</td>\n",
       "      <td>2950</td>\n",
       "      <td>2.62</td>\n",
       "      <td>63.0</td>\n",
       "      <td>3.50</td>\n",
       "      <td>2970</td>\n",
       "    </tr>\n",
       "    <tr>\n",
       "      <th>163</th>\n",
       "      <td>Venezuela</td>\n",
       "      <td>17.1</td>\n",
       "      <td>28.5</td>\n",
       "      <td>4.91</td>\n",
       "      <td>17.6</td>\n",
       "      <td>16500</td>\n",
       "      <td>45.90</td>\n",
       "      <td>75.4</td>\n",
       "      <td>2.47</td>\n",
       "      <td>13500</td>\n",
       "    </tr>\n",
       "    <tr>\n",
       "      <th>164</th>\n",
       "      <td>Vietnam</td>\n",
       "      <td>23.3</td>\n",
       "      <td>72.0</td>\n",
       "      <td>6.84</td>\n",
       "      <td>80.2</td>\n",
       "      <td>4490</td>\n",
       "      <td>12.10</td>\n",
       "      <td>73.1</td>\n",
       "      <td>1.95</td>\n",
       "      <td>1310</td>\n",
       "    </tr>\n",
       "    <tr>\n",
       "      <th>165</th>\n",
       "      <td>Yemen</td>\n",
       "      <td>56.3</td>\n",
       "      <td>30.0</td>\n",
       "      <td>5.18</td>\n",
       "      <td>34.4</td>\n",
       "      <td>4480</td>\n",
       "      <td>23.60</td>\n",
       "      <td>67.5</td>\n",
       "      <td>4.67</td>\n",
       "      <td>1310</td>\n",
       "    </tr>\n",
       "    <tr>\n",
       "      <th>166</th>\n",
       "      <td>Zambia</td>\n",
       "      <td>83.1</td>\n",
       "      <td>37.0</td>\n",
       "      <td>5.89</td>\n",
       "      <td>30.9</td>\n",
       "      <td>3280</td>\n",
       "      <td>14.00</td>\n",
       "      <td>52.0</td>\n",
       "      <td>5.40</td>\n",
       "      <td>1460</td>\n",
       "    </tr>\n",
       "  </tbody>\n",
       "</table>\n",
       "<p>167 rows × 10 columns</p>\n",
       "</div>"
      ],
      "text/plain": [
       "                 country  child_mort  exports  health  imports  income  \\\n",
       "0            Afghanistan        90.2     10.0    7.58     44.9    1610   \n",
       "1                Albania        16.6     28.0    6.55     48.6    9930   \n",
       "2                Algeria        27.3     38.4    4.17     31.4   12900   \n",
       "3                 Angola       119.0     62.3    2.85     42.9    5900   \n",
       "4    Antigua and Barbuda        10.3     45.5    6.03     58.9   19100   \n",
       "..                   ...         ...      ...     ...      ...     ...   \n",
       "162              Vanuatu        29.2     46.6    5.25     52.7    2950   \n",
       "163            Venezuela        17.1     28.5    4.91     17.6   16500   \n",
       "164              Vietnam        23.3     72.0    6.84     80.2    4490   \n",
       "165                Yemen        56.3     30.0    5.18     34.4    4480   \n",
       "166               Zambia        83.1     37.0    5.89     30.9    3280   \n",
       "\n",
       "     inflation  life_expec  total_fer   gdpp  \n",
       "0         9.44        56.2       5.82    553  \n",
       "1         4.49        76.3       1.65   4090  \n",
       "2        16.10        76.5       2.89   4460  \n",
       "3        22.40        60.1       6.16   3530  \n",
       "4         1.44        76.8       2.13  12200  \n",
       "..         ...         ...        ...    ...  \n",
       "162       2.62        63.0       3.50   2970  \n",
       "163      45.90        75.4       2.47  13500  \n",
       "164      12.10        73.1       1.95   1310  \n",
       "165      23.60        67.5       4.67   1310  \n",
       "166      14.00        52.0       5.40   1460  \n",
       "\n",
       "[167 rows x 10 columns]"
      ]
     },
     "execution_count": 4,
     "metadata": {},
     "output_type": "execute_result"
    }
   ],
   "source": [
    "df"
   ]
  },
  {
   "cell_type": "code",
   "execution_count": 5,
   "id": "323e85a2",
   "metadata": {},
   "outputs": [
    {
     "data": {
      "text/html": [
       "<div>\n",
       "<style scoped>\n",
       "    .dataframe tbody tr th:only-of-type {\n",
       "        vertical-align: middle;\n",
       "    }\n",
       "\n",
       "    .dataframe tbody tr th {\n",
       "        vertical-align: top;\n",
       "    }\n",
       "\n",
       "    .dataframe thead th {\n",
       "        text-align: right;\n",
       "    }\n",
       "</style>\n",
       "<table border=\"1\" class=\"dataframe\">\n",
       "  <thead>\n",
       "    <tr style=\"text-align: right;\">\n",
       "      <th></th>\n",
       "      <th>country</th>\n",
       "      <th>child_mort</th>\n",
       "      <th>exports</th>\n",
       "      <th>health</th>\n",
       "      <th>imports</th>\n",
       "      <th>income</th>\n",
       "      <th>inflation</th>\n",
       "      <th>life_expec</th>\n",
       "      <th>total_fer</th>\n",
       "      <th>gdpp</th>\n",
       "    </tr>\n",
       "  </thead>\n",
       "  <tbody>\n",
       "    <tr>\n",
       "      <th>0</th>\n",
       "      <td>Afghanistan</td>\n",
       "      <td>90.2</td>\n",
       "      <td>10.0</td>\n",
       "      <td>7.58</td>\n",
       "      <td>44.9</td>\n",
       "      <td>1610</td>\n",
       "      <td>9.44</td>\n",
       "      <td>56.2</td>\n",
       "      <td>5.82</td>\n",
       "      <td>553</td>\n",
       "    </tr>\n",
       "    <tr>\n",
       "      <th>1</th>\n",
       "      <td>Albania</td>\n",
       "      <td>16.6</td>\n",
       "      <td>28.0</td>\n",
       "      <td>6.55</td>\n",
       "      <td>48.6</td>\n",
       "      <td>9930</td>\n",
       "      <td>4.49</td>\n",
       "      <td>76.3</td>\n",
       "      <td>1.65</td>\n",
       "      <td>4090</td>\n",
       "    </tr>\n",
       "    <tr>\n",
       "      <th>2</th>\n",
       "      <td>Algeria</td>\n",
       "      <td>27.3</td>\n",
       "      <td>38.4</td>\n",
       "      <td>4.17</td>\n",
       "      <td>31.4</td>\n",
       "      <td>12900</td>\n",
       "      <td>16.10</td>\n",
       "      <td>76.5</td>\n",
       "      <td>2.89</td>\n",
       "      <td>4460</td>\n",
       "    </tr>\n",
       "    <tr>\n",
       "      <th>3</th>\n",
       "      <td>Angola</td>\n",
       "      <td>119.0</td>\n",
       "      <td>62.3</td>\n",
       "      <td>2.85</td>\n",
       "      <td>42.9</td>\n",
       "      <td>5900</td>\n",
       "      <td>22.40</td>\n",
       "      <td>60.1</td>\n",
       "      <td>6.16</td>\n",
       "      <td>3530</td>\n",
       "    </tr>\n",
       "    <tr>\n",
       "      <th>4</th>\n",
       "      <td>Antigua and Barbuda</td>\n",
       "      <td>10.3</td>\n",
       "      <td>45.5</td>\n",
       "      <td>6.03</td>\n",
       "      <td>58.9</td>\n",
       "      <td>19100</td>\n",
       "      <td>1.44</td>\n",
       "      <td>76.8</td>\n",
       "      <td>2.13</td>\n",
       "      <td>12200</td>\n",
       "    </tr>\n",
       "  </tbody>\n",
       "</table>\n",
       "</div>"
      ],
      "text/plain": [
       "               country  child_mort  exports  health  imports  income  \\\n",
       "0          Afghanistan        90.2     10.0    7.58     44.9    1610   \n",
       "1              Albania        16.6     28.0    6.55     48.6    9930   \n",
       "2              Algeria        27.3     38.4    4.17     31.4   12900   \n",
       "3               Angola       119.0     62.3    2.85     42.9    5900   \n",
       "4  Antigua and Barbuda        10.3     45.5    6.03     58.9   19100   \n",
       "\n",
       "   inflation  life_expec  total_fer   gdpp  \n",
       "0       9.44        56.2       5.82    553  \n",
       "1       4.49        76.3       1.65   4090  \n",
       "2      16.10        76.5       2.89   4460  \n",
       "3      22.40        60.1       6.16   3530  \n",
       "4       1.44        76.8       2.13  12200  "
      ]
     },
     "execution_count": 5,
     "metadata": {},
     "output_type": "execute_result"
    }
   ],
   "source": [
    "df.head()"
   ]
  },
  {
   "cell_type": "code",
   "execution_count": 6,
   "id": "aaf2ac63",
   "metadata": {},
   "outputs": [
    {
     "data": {
      "text/html": [
       "<div>\n",
       "<style scoped>\n",
       "    .dataframe tbody tr th:only-of-type {\n",
       "        vertical-align: middle;\n",
       "    }\n",
       "\n",
       "    .dataframe tbody tr th {\n",
       "        vertical-align: top;\n",
       "    }\n",
       "\n",
       "    .dataframe thead th {\n",
       "        text-align: right;\n",
       "    }\n",
       "</style>\n",
       "<table border=\"1\" class=\"dataframe\">\n",
       "  <thead>\n",
       "    <tr style=\"text-align: right;\">\n",
       "      <th></th>\n",
       "      <th>country</th>\n",
       "      <th>child_mort</th>\n",
       "      <th>exports</th>\n",
       "      <th>health</th>\n",
       "      <th>imports</th>\n",
       "      <th>income</th>\n",
       "      <th>inflation</th>\n",
       "      <th>life_expec</th>\n",
       "      <th>total_fer</th>\n",
       "      <th>gdpp</th>\n",
       "    </tr>\n",
       "  </thead>\n",
       "  <tbody>\n",
       "    <tr>\n",
       "      <th>162</th>\n",
       "      <td>Vanuatu</td>\n",
       "      <td>29.2</td>\n",
       "      <td>46.6</td>\n",
       "      <td>5.25</td>\n",
       "      <td>52.7</td>\n",
       "      <td>2950</td>\n",
       "      <td>2.62</td>\n",
       "      <td>63.0</td>\n",
       "      <td>3.50</td>\n",
       "      <td>2970</td>\n",
       "    </tr>\n",
       "    <tr>\n",
       "      <th>163</th>\n",
       "      <td>Venezuela</td>\n",
       "      <td>17.1</td>\n",
       "      <td>28.5</td>\n",
       "      <td>4.91</td>\n",
       "      <td>17.6</td>\n",
       "      <td>16500</td>\n",
       "      <td>45.90</td>\n",
       "      <td>75.4</td>\n",
       "      <td>2.47</td>\n",
       "      <td>13500</td>\n",
       "    </tr>\n",
       "    <tr>\n",
       "      <th>164</th>\n",
       "      <td>Vietnam</td>\n",
       "      <td>23.3</td>\n",
       "      <td>72.0</td>\n",
       "      <td>6.84</td>\n",
       "      <td>80.2</td>\n",
       "      <td>4490</td>\n",
       "      <td>12.10</td>\n",
       "      <td>73.1</td>\n",
       "      <td>1.95</td>\n",
       "      <td>1310</td>\n",
       "    </tr>\n",
       "    <tr>\n",
       "      <th>165</th>\n",
       "      <td>Yemen</td>\n",
       "      <td>56.3</td>\n",
       "      <td>30.0</td>\n",
       "      <td>5.18</td>\n",
       "      <td>34.4</td>\n",
       "      <td>4480</td>\n",
       "      <td>23.60</td>\n",
       "      <td>67.5</td>\n",
       "      <td>4.67</td>\n",
       "      <td>1310</td>\n",
       "    </tr>\n",
       "    <tr>\n",
       "      <th>166</th>\n",
       "      <td>Zambia</td>\n",
       "      <td>83.1</td>\n",
       "      <td>37.0</td>\n",
       "      <td>5.89</td>\n",
       "      <td>30.9</td>\n",
       "      <td>3280</td>\n",
       "      <td>14.00</td>\n",
       "      <td>52.0</td>\n",
       "      <td>5.40</td>\n",
       "      <td>1460</td>\n",
       "    </tr>\n",
       "  </tbody>\n",
       "</table>\n",
       "</div>"
      ],
      "text/plain": [
       "       country  child_mort  exports  health  imports  income  inflation  \\\n",
       "162    Vanuatu        29.2     46.6    5.25     52.7    2950       2.62   \n",
       "163  Venezuela        17.1     28.5    4.91     17.6   16500      45.90   \n",
       "164    Vietnam        23.3     72.0    6.84     80.2    4490      12.10   \n",
       "165      Yemen        56.3     30.0    5.18     34.4    4480      23.60   \n",
       "166     Zambia        83.1     37.0    5.89     30.9    3280      14.00   \n",
       "\n",
       "     life_expec  total_fer   gdpp  \n",
       "162        63.0       3.50   2970  \n",
       "163        75.4       2.47  13500  \n",
       "164        73.1       1.95   1310  \n",
       "165        67.5       4.67   1310  \n",
       "166        52.0       5.40   1460  "
      ]
     },
     "execution_count": 6,
     "metadata": {},
     "output_type": "execute_result"
    }
   ],
   "source": [
    "df.tail()"
   ]
  },
  {
   "cell_type": "code",
   "execution_count": 7,
   "id": "7e30ca4b",
   "metadata": {},
   "outputs": [
    {
     "name": "stdout",
     "output_type": "stream",
     "text": [
      "<class 'pandas.core.frame.DataFrame'>\n",
      "RangeIndex: 167 entries, 0 to 166\n",
      "Data columns (total 10 columns):\n",
      " #   Column      Non-Null Count  Dtype  \n",
      "---  ------      --------------  -----  \n",
      " 0   country     167 non-null    object \n",
      " 1   child_mort  167 non-null    float64\n",
      " 2   exports     167 non-null    float64\n",
      " 3   health      167 non-null    float64\n",
      " 4   imports     167 non-null    float64\n",
      " 5   income      167 non-null    int64  \n",
      " 6   inflation   167 non-null    float64\n",
      " 7   life_expec  167 non-null    float64\n",
      " 8   total_fer   167 non-null    float64\n",
      " 9   gdpp        167 non-null    int64  \n",
      "dtypes: float64(7), int64(2), object(1)\n",
      "memory usage: 13.2+ KB\n"
     ]
    }
   ],
   "source": [
    "df.info()"
   ]
  },
  {
   "cell_type": "code",
   "execution_count": 58,
   "id": "176db0b0",
   "metadata": {},
   "outputs": [
    {
     "data": {
      "text/plain": [
       "<bound method NDFrame.describe of                  country  child_mort  exports  health  imports  income  \\\n",
       "0            Afghanistan        90.2     10.0    7.58     44.9    1610   \n",
       "1                Albania        16.6     28.0    6.55     48.6    9930   \n",
       "2                Algeria        27.3     38.4    4.17     31.4   12900   \n",
       "3                 Angola       119.0     62.3    2.85     42.9    5900   \n",
       "4    Antigua and Barbuda        10.3     45.5    6.03     58.9   19100   \n",
       "..                   ...         ...      ...     ...      ...     ...   \n",
       "162              Vanuatu        29.2     46.6    5.25     52.7    2950   \n",
       "163            Venezuela        17.1     28.5    4.91     17.6   16500   \n",
       "164              Vietnam        23.3     72.0    6.84     80.2    4490   \n",
       "165                Yemen        56.3     30.0    5.18     34.4    4480   \n",
       "166               Zambia        83.1     37.0    5.89     30.9    3280   \n",
       "\n",
       "     inflation  life_expec  total_fer   gdpp  \n",
       "0         9.44        56.2       5.82    553  \n",
       "1         4.49        76.3       1.65   4090  \n",
       "2        16.10        76.5       2.89   4460  \n",
       "3        22.40        60.1       6.16   3530  \n",
       "4         1.44        76.8       2.13  12200  \n",
       "..         ...         ...        ...    ...  \n",
       "162       2.62        63.0       3.50   2970  \n",
       "163      45.90        75.4       2.47  13500  \n",
       "164      12.10        73.1       1.95   1310  \n",
       "165      23.60        67.5       4.67   1310  \n",
       "166      14.00        52.0       5.40   1460  \n",
       "\n",
       "[167 rows x 10 columns]>"
      ]
     },
     "execution_count": 58,
     "metadata": {},
     "output_type": "execute_result"
    }
   ],
   "source": [
    "# to see data discription\n",
    "df.describe"
   ]
  },
  {
   "cell_type": "code",
   "execution_count": 59,
   "id": "bdaba8db",
   "metadata": {},
   "outputs": [
    {
     "data": {
      "text/html": [
       "<div>\n",
       "<style scoped>\n",
       "    .dataframe tbody tr th:only-of-type {\n",
       "        vertical-align: middle;\n",
       "    }\n",
       "\n",
       "    .dataframe tbody tr th {\n",
       "        vertical-align: top;\n",
       "    }\n",
       "\n",
       "    .dataframe thead th {\n",
       "        text-align: right;\n",
       "    }\n",
       "</style>\n",
       "<table border=\"1\" class=\"dataframe\">\n",
       "  <thead>\n",
       "    <tr style=\"text-align: right;\">\n",
       "      <th></th>\n",
       "      <th>child_mort</th>\n",
       "      <th>exports</th>\n",
       "      <th>health</th>\n",
       "      <th>imports</th>\n",
       "      <th>income</th>\n",
       "      <th>inflation</th>\n",
       "      <th>life_expec</th>\n",
       "      <th>total_fer</th>\n",
       "      <th>gdpp</th>\n",
       "    </tr>\n",
       "  </thead>\n",
       "  <tbody>\n",
       "    <tr>\n",
       "      <th>child_mort</th>\n",
       "      <td>1.000000</td>\n",
       "      <td>-0.318093</td>\n",
       "      <td>-0.200402</td>\n",
       "      <td>-0.127211</td>\n",
       "      <td>-0.524315</td>\n",
       "      <td>0.288276</td>\n",
       "      <td>-0.886676</td>\n",
       "      <td>0.848478</td>\n",
       "      <td>-0.483032</td>\n",
       "    </tr>\n",
       "    <tr>\n",
       "      <th>exports</th>\n",
       "      <td>-0.318093</td>\n",
       "      <td>1.000000</td>\n",
       "      <td>-0.114408</td>\n",
       "      <td>0.737381</td>\n",
       "      <td>0.516784</td>\n",
       "      <td>-0.107294</td>\n",
       "      <td>0.316313</td>\n",
       "      <td>-0.320011</td>\n",
       "      <td>0.418725</td>\n",
       "    </tr>\n",
       "    <tr>\n",
       "      <th>health</th>\n",
       "      <td>-0.200402</td>\n",
       "      <td>-0.114408</td>\n",
       "      <td>1.000000</td>\n",
       "      <td>0.095717</td>\n",
       "      <td>0.129579</td>\n",
       "      <td>-0.255376</td>\n",
       "      <td>0.210692</td>\n",
       "      <td>-0.196674</td>\n",
       "      <td>0.345966</td>\n",
       "    </tr>\n",
       "    <tr>\n",
       "      <th>imports</th>\n",
       "      <td>-0.127211</td>\n",
       "      <td>0.737381</td>\n",
       "      <td>0.095717</td>\n",
       "      <td>1.000000</td>\n",
       "      <td>0.122406</td>\n",
       "      <td>-0.246994</td>\n",
       "      <td>0.054391</td>\n",
       "      <td>-0.159048</td>\n",
       "      <td>0.115498</td>\n",
       "    </tr>\n",
       "    <tr>\n",
       "      <th>income</th>\n",
       "      <td>-0.524315</td>\n",
       "      <td>0.516784</td>\n",
       "      <td>0.129579</td>\n",
       "      <td>0.122406</td>\n",
       "      <td>1.000000</td>\n",
       "      <td>-0.147756</td>\n",
       "      <td>0.611962</td>\n",
       "      <td>-0.501840</td>\n",
       "      <td>0.895571</td>\n",
       "    </tr>\n",
       "    <tr>\n",
       "      <th>inflation</th>\n",
       "      <td>0.288276</td>\n",
       "      <td>-0.107294</td>\n",
       "      <td>-0.255376</td>\n",
       "      <td>-0.246994</td>\n",
       "      <td>-0.147756</td>\n",
       "      <td>1.000000</td>\n",
       "      <td>-0.239705</td>\n",
       "      <td>0.316921</td>\n",
       "      <td>-0.221631</td>\n",
       "    </tr>\n",
       "    <tr>\n",
       "      <th>life_expec</th>\n",
       "      <td>-0.886676</td>\n",
       "      <td>0.316313</td>\n",
       "      <td>0.210692</td>\n",
       "      <td>0.054391</td>\n",
       "      <td>0.611962</td>\n",
       "      <td>-0.239705</td>\n",
       "      <td>1.000000</td>\n",
       "      <td>-0.760875</td>\n",
       "      <td>0.600089</td>\n",
       "    </tr>\n",
       "    <tr>\n",
       "      <th>total_fer</th>\n",
       "      <td>0.848478</td>\n",
       "      <td>-0.320011</td>\n",
       "      <td>-0.196674</td>\n",
       "      <td>-0.159048</td>\n",
       "      <td>-0.501840</td>\n",
       "      <td>0.316921</td>\n",
       "      <td>-0.760875</td>\n",
       "      <td>1.000000</td>\n",
       "      <td>-0.454910</td>\n",
       "    </tr>\n",
       "    <tr>\n",
       "      <th>gdpp</th>\n",
       "      <td>-0.483032</td>\n",
       "      <td>0.418725</td>\n",
       "      <td>0.345966</td>\n",
       "      <td>0.115498</td>\n",
       "      <td>0.895571</td>\n",
       "      <td>-0.221631</td>\n",
       "      <td>0.600089</td>\n",
       "      <td>-0.454910</td>\n",
       "      <td>1.000000</td>\n",
       "    </tr>\n",
       "  </tbody>\n",
       "</table>\n",
       "</div>"
      ],
      "text/plain": [
       "            child_mort   exports    health   imports    income  inflation  \\\n",
       "child_mort    1.000000 -0.318093 -0.200402 -0.127211 -0.524315   0.288276   \n",
       "exports      -0.318093  1.000000 -0.114408  0.737381  0.516784  -0.107294   \n",
       "health       -0.200402 -0.114408  1.000000  0.095717  0.129579  -0.255376   \n",
       "imports      -0.127211  0.737381  0.095717  1.000000  0.122406  -0.246994   \n",
       "income       -0.524315  0.516784  0.129579  0.122406  1.000000  -0.147756   \n",
       "inflation     0.288276 -0.107294 -0.255376 -0.246994 -0.147756   1.000000   \n",
       "life_expec   -0.886676  0.316313  0.210692  0.054391  0.611962  -0.239705   \n",
       "total_fer     0.848478 -0.320011 -0.196674 -0.159048 -0.501840   0.316921   \n",
       "gdpp         -0.483032  0.418725  0.345966  0.115498  0.895571  -0.221631   \n",
       "\n",
       "            life_expec  total_fer      gdpp  \n",
       "child_mort   -0.886676   0.848478 -0.483032  \n",
       "exports       0.316313  -0.320011  0.418725  \n",
       "health        0.210692  -0.196674  0.345966  \n",
       "imports       0.054391  -0.159048  0.115498  \n",
       "income        0.611962  -0.501840  0.895571  \n",
       "inflation    -0.239705   0.316921 -0.221631  \n",
       "life_expec    1.000000  -0.760875  0.600089  \n",
       "total_fer    -0.760875   1.000000 -0.454910  \n",
       "gdpp          0.600089  -0.454910  1.000000  "
      ]
     },
     "execution_count": 59,
     "metadata": {},
     "output_type": "execute_result"
    }
   ],
   "source": [
    "# to see correlation \n",
    "df.corr()"
   ]
  },
  {
   "cell_type": "code",
   "execution_count": 10,
   "id": "7b2f4626",
   "metadata": {},
   "outputs": [
    {
     "data": {
      "text/plain": [
       "<AxesSubplot:>"
      ]
     },
     "execution_count": 10,
     "metadata": {},
     "output_type": "execute_result"
    },
    {
     "data": {
      "image/png": "[encoded data removed]",
      "text/plain": [
       "<Figure size 432x288 with 2 Axes>"
      ]
     },
     "metadata": {
      "needs_background": "light"
     },
     "output_type": "display_data"
    }
   ],
   "source": [
    "# to see heatmap of correlation of data\n",
    "sns.heatmap(df.corr())"
   ]
  },
  {
   "cell_type": "code",
   "execution_count": 11,
   "id": "91cf3968",
   "metadata": {},
   "outputs": [
    {
     "data": {
      "text/plain": [
       "country       0\n",
       "child_mort    0\n",
       "exports       0\n",
       "health        0\n",
       "imports       0\n",
       "income        0\n",
       "inflation     0\n",
       "life_expec    0\n",
       "total_fer     0\n",
       "gdpp          0\n",
       "dtype: int64"
      ]
     },
     "execution_count": 11,
     "metadata": {},
     "output_type": "execute_result"
    }
   ],
   "source": [
    "# to see any null value present in data or not\n",
    "df.isnull().sum()"
   ]
  },
  {
   "cell_type": "code",
   "execution_count": 12,
   "id": "9243b833",
   "metadata": {},
   "outputs": [
    {
     "data": {
      "text/plain": [
       "6.815688622754495"
      ]
     },
     "execution_count": 12,
     "metadata": {},
     "output_type": "execute_result"
    }
   ],
   "source": [
    "# to see mean of health column\n",
    "df['health'].mean()"
   ]
  },
  {
   "cell_type": "code",
   "execution_count": 13,
   "id": "e22307f3",
   "metadata": {},
   "outputs": [
    {
     "data": {
      "text/plain": [
       "<AxesSubplot:>"
      ]
     },
     "execution_count": 13,
     "metadata": {},
     "output_type": "execute_result"
    },
    {
     "data": {
      "image/png": "[encoded data removed]",
      "text/plain": [
       "<Figure size 432x288 with 2 Axes>"
      ]
     },
     "metadata": {
      "needs_background": "light"
     },
     "output_type": "display_data"
    }
   ],
   "source": [
    "sns.heatmap(df.isnull())"
   ]
  },
  {
   "cell_type": "markdown",
   "id": "a7bf34b6",
   "metadata": {},
   "source": [
    "# import MinMaxScaler"
   ]
  },
  {
   "cell_type": "code",
   "execution_count": 14,
   "id": "ae2b0083",
   "metadata": {},
   "outputs": [],
   "source": [
    "from sklearn.preprocessing import MinMaxScaler"
   ]
  },
  {
   "cell_type": "code",
   "execution_count": 15,
   "id": "b63ce115",
   "metadata": {},
   "outputs": [],
   "source": [
    "scaler=MinMaxScaler()"
   ]
  },
  {
   "cell_type": "code",
   "execution_count": 16,
   "id": "23f89b72",
   "metadata": {},
   "outputs": [],
   "source": [
    "# drop country column because it contain categorical data\n",
    "scaled_data= scaler.fit_transform(df.drop('country', axis=1))"
   ]
  },
  {
   "cell_type": "code",
   "execution_count": 17,
   "id": "6aabaec9",
   "metadata": {},
   "outputs": [],
   "source": [
    "# to see data after first column we use[1:]\n",
    "scaled_df=pd.DataFrame(data=scaled_data,columns=df.columns[1:])"
   ]
  },
  {
   "cell_type": "code",
   "execution_count": 18,
   "id": "8726247f",
   "metadata": {},
   "outputs": [],
   "source": [
    "scaled_df['country']=df['country']"
   ]
  },
  {
   "cell_type": "code",
   "execution_count": 19,
   "id": "b86ebe5d",
   "metadata": {},
   "outputs": [
    {
     "data": {
      "text/html": [
       "<div>\n",
       "<style scoped>\n",
       "    .dataframe tbody tr th:only-of-type {\n",
       "        vertical-align: middle;\n",
       "    }\n",
       "\n",
       "    .dataframe tbody tr th {\n",
       "        vertical-align: top;\n",
       "    }\n",
       "\n",
       "    .dataframe thead th {\n",
       "        text-align: right;\n",
       "    }\n",
       "</style>\n",
       "<table border=\"1\" class=\"dataframe\">\n",
       "  <thead>\n",
       "    <tr style=\"text-align: right;\">\n",
       "      <th></th>\n",
       "      <th>child_mort</th>\n",
       "      <th>exports</th>\n",
       "      <th>health</th>\n",
       "      <th>imports</th>\n",
       "      <th>income</th>\n",
       "      <th>inflation</th>\n",
       "      <th>life_expec</th>\n",
       "      <th>total_fer</th>\n",
       "      <th>gdpp</th>\n",
       "      <th>country</th>\n",
       "    </tr>\n",
       "  </thead>\n",
       "  <tbody>\n",
       "    <tr>\n",
       "      <th>0</th>\n",
       "      <td>0.426485</td>\n",
       "      <td>0.049482</td>\n",
       "      <td>0.358608</td>\n",
       "      <td>0.257765</td>\n",
       "      <td>0.008047</td>\n",
       "      <td>0.126144</td>\n",
       "      <td>0.475345</td>\n",
       "      <td>0.736593</td>\n",
       "      <td>0.003073</td>\n",
       "      <td>Afghanistan</td>\n",
       "    </tr>\n",
       "    <tr>\n",
       "      <th>1</th>\n",
       "      <td>0.068160</td>\n",
       "      <td>0.139531</td>\n",
       "      <td>0.294593</td>\n",
       "      <td>0.279037</td>\n",
       "      <td>0.074933</td>\n",
       "      <td>0.080399</td>\n",
       "      <td>0.871795</td>\n",
       "      <td>0.078864</td>\n",
       "      <td>0.036833</td>\n",
       "      <td>Albania</td>\n",
       "    </tr>\n",
       "    <tr>\n",
       "      <th>2</th>\n",
       "      <td>0.120253</td>\n",
       "      <td>0.191559</td>\n",
       "      <td>0.146675</td>\n",
       "      <td>0.180149</td>\n",
       "      <td>0.098809</td>\n",
       "      <td>0.187691</td>\n",
       "      <td>0.875740</td>\n",
       "      <td>0.274448</td>\n",
       "      <td>0.040365</td>\n",
       "      <td>Algeria</td>\n",
       "    </tr>\n",
       "    <tr>\n",
       "      <th>3</th>\n",
       "      <td>0.566699</td>\n",
       "      <td>0.311125</td>\n",
       "      <td>0.064636</td>\n",
       "      <td>0.246266</td>\n",
       "      <td>0.042535</td>\n",
       "      <td>0.245911</td>\n",
       "      <td>0.552268</td>\n",
       "      <td>0.790221</td>\n",
       "      <td>0.031488</td>\n",
       "      <td>Angola</td>\n",
       "    </tr>\n",
       "    <tr>\n",
       "      <th>4</th>\n",
       "      <td>0.037488</td>\n",
       "      <td>0.227079</td>\n",
       "      <td>0.262275</td>\n",
       "      <td>0.338255</td>\n",
       "      <td>0.148652</td>\n",
       "      <td>0.052213</td>\n",
       "      <td>0.881657</td>\n",
       "      <td>0.154574</td>\n",
       "      <td>0.114242</td>\n",
       "      <td>Antigua and Barbuda</td>\n",
       "    </tr>\n",
       "    <tr>\n",
       "      <th>...</th>\n",
       "      <td>...</td>\n",
       "      <td>...</td>\n",
       "      <td>...</td>\n",
       "      <td>...</td>\n",
       "      <td>...</td>\n",
       "      <td>...</td>\n",
       "      <td>...</td>\n",
       "      <td>...</td>\n",
       "      <td>...</td>\n",
       "      <td>...</td>\n",
       "    </tr>\n",
       "    <tr>\n",
       "      <th>162</th>\n",
       "      <td>0.129503</td>\n",
       "      <td>0.232582</td>\n",
       "      <td>0.213797</td>\n",
       "      <td>0.302609</td>\n",
       "      <td>0.018820</td>\n",
       "      <td>0.063118</td>\n",
       "      <td>0.609467</td>\n",
       "      <td>0.370662</td>\n",
       "      <td>0.026143</td>\n",
       "      <td>Vanuatu</td>\n",
       "    </tr>\n",
       "    <tr>\n",
       "      <th>163</th>\n",
       "      <td>0.070594</td>\n",
       "      <td>0.142032</td>\n",
       "      <td>0.192666</td>\n",
       "      <td>0.100809</td>\n",
       "      <td>0.127750</td>\n",
       "      <td>0.463081</td>\n",
       "      <td>0.854043</td>\n",
       "      <td>0.208202</td>\n",
       "      <td>0.126650</td>\n",
       "      <td>Venezuela</td>\n",
       "    </tr>\n",
       "    <tr>\n",
       "      <th>164</th>\n",
       "      <td>0.100779</td>\n",
       "      <td>0.359651</td>\n",
       "      <td>0.312617</td>\n",
       "      <td>0.460715</td>\n",
       "      <td>0.031200</td>\n",
       "      <td>0.150725</td>\n",
       "      <td>0.808679</td>\n",
       "      <td>0.126183</td>\n",
       "      <td>0.010299</td>\n",
       "      <td>Vietnam</td>\n",
       "    </tr>\n",
       "    <tr>\n",
       "      <th>165</th>\n",
       "      <td>0.261441</td>\n",
       "      <td>0.149536</td>\n",
       "      <td>0.209447</td>\n",
       "      <td>0.197397</td>\n",
       "      <td>0.031120</td>\n",
       "      <td>0.257000</td>\n",
       "      <td>0.698225</td>\n",
       "      <td>0.555205</td>\n",
       "      <td>0.010299</td>\n",
       "      <td>Yemen</td>\n",
       "    </tr>\n",
       "    <tr>\n",
       "      <th>166</th>\n",
       "      <td>0.391918</td>\n",
       "      <td>0.184556</td>\n",
       "      <td>0.253574</td>\n",
       "      <td>0.177275</td>\n",
       "      <td>0.021473</td>\n",
       "      <td>0.168284</td>\n",
       "      <td>0.392505</td>\n",
       "      <td>0.670347</td>\n",
       "      <td>0.011731</td>\n",
       "      <td>Zambia</td>\n",
       "    </tr>\n",
       "  </tbody>\n",
       "</table>\n",
       "<p>167 rows × 10 columns</p>\n",
       "</div>"
      ],
      "text/plain": [
       "     child_mort   exports    health   imports    income  inflation  \\\n",
       "0      0.426485  0.049482  0.358608  0.257765  0.008047   0.126144   \n",
       "1      0.068160  0.139531  0.294593  0.279037  0.074933   0.080399   \n",
       "2      0.120253  0.191559  0.146675  0.180149  0.098809   0.187691   \n",
       "3      0.566699  0.311125  0.064636  0.246266  0.042535   0.245911   \n",
       "4      0.037488  0.227079  0.262275  0.338255  0.148652   0.052213   \n",
       "..          ...       ...       ...       ...       ...        ...   \n",
       "162    0.129503  0.232582  0.213797  0.302609  0.018820   0.063118   \n",
       "163    0.070594  0.142032  0.192666  0.100809  0.127750   0.463081   \n",
       "164    0.100779  0.359651  0.312617  0.460715  0.031200   0.150725   \n",
       "165    0.261441  0.149536  0.209447  0.197397  0.031120   0.257000   \n",
       "166    0.391918  0.184556  0.253574  0.177275  0.021473   0.168284   \n",
       "\n",
       "     life_expec  total_fer      gdpp              country  \n",
       "0      0.475345   0.736593  0.003073          Afghanistan  \n",
       "1      0.871795   0.078864  0.036833              Albania  \n",
       "2      0.875740   0.274448  0.040365              Algeria  \n",
       "3      0.552268   0.790221  0.031488               Angola  \n",
       "4      0.881657   0.154574  0.114242  Antigua and Barbuda  \n",
       "..          ...        ...       ...                  ...  \n",
       "162    0.609467   0.370662  0.026143              Vanuatu  \n",
       "163    0.854043   0.208202  0.126650            Venezuela  \n",
       "164    0.808679   0.126183  0.010299              Vietnam  \n",
       "165    0.698225   0.555205  0.010299                Yemen  \n",
       "166    0.392505   0.670347  0.011731               Zambia  \n",
       "\n",
       "[167 rows x 10 columns]"
      ]
     },
     "execution_count": 19,
     "metadata": {},
     "output_type": "execute_result"
    }
   ],
   "source": [
    "scaled_df"
   ]
  },
  {
   "cell_type": "markdown",
   "id": "741a550e",
   "metadata": {},
   "source": [
    "# EDA"
   ]
  },
  {
   "cell_type": "code",
   "execution_count": 20,
   "id": "74b5ca07",
   "metadata": {},
   "outputs": [
    {
     "data": {
      "text/plain": [
       "<AxesSubplot:xlabel='total_fer', ylabel='count'>"
      ]
     },
     "execution_count": 20,
     "metadata": {},
     "output_type": "execute_result"
    },
    {
     "data": {
      "image/png": "[encoded data removed]",
      "text/plain": [
       "<Figure size 432x288 with 1 Axes>"
      ]
     },
     "metadata": {
      "needs_background": "light"
     },
     "output_type": "display_data"
    }
   ],
   "source": [
    "sns.countplot(x='total_fer',data=df)"
   ]
  },
  {
   "cell_type": "code",
   "execution_count": 21,
   "id": "d9495882",
   "metadata": {},
   "outputs": [
    {
     "data": {
      "text/plain": [
       "<AxesSubplot:xlabel='health', ylabel='count'>"
      ]
     },
     "execution_count": 21,
     "metadata": {},
     "output_type": "execute_result"
    },
    {
     "data": {
      "image/png": "[encoded data removed]",
      "text/plain": [
       "<Figure size 432x288 with 1 Axes>"
      ]
     },
     "metadata": {
      "needs_background": "light"
     },
     "output_type": "display_data"
    }
   ],
   "source": [
    "sns.countplot(x='health',data=df)"
   ]
  },
  {
   "cell_type": "code",
   "execution_count": 22,
   "id": "226b251a",
   "metadata": {},
   "outputs": [
    {
     "name": "stderr",
     "output_type": "stream",
     "text": [
      "C:\\Users\\Ajit\\anaconda3\\lib\\site-packages\\seaborn\\distributions.py:2619: FutureWarning: `distplot` is a deprecated function and will be removed in a future version. Please adapt your code to use either `displot` (a figure-level function with similar flexibility) or `histplot` (an axes-level function for histograms).\n",
      "  warnings.warn(msg, FutureWarning)\n"
     ]
    },
    {
     "data": {
      "text/plain": [
       "<AxesSubplot:xlabel='income', ylabel='Density'>"
      ]
     },
     "execution_count": 22,
     "metadata": {},
     "output_type": "execute_result"
    },
    {
     "data": {
      "image/png": "[encoded data removed]",
      "text/plain": [
       "<Figure size 432x288 with 1 Axes>"
      ]
     },
     "metadata": {
      "needs_background": "light"
     },
     "output_type": "display_data"
    }
   ],
   "source": [
    "sns.distplot(df.income)"
   ]
  },
  {
   "cell_type": "code",
   "execution_count": 23,
   "id": "4969a793",
   "metadata": {},
   "outputs": [
    {
     "data": {
      "text/plain": [
       "[<matplotlib.lines.Line2D at 0x1e7a7eb2b20>]"
      ]
     },
     "execution_count": 23,
     "metadata": {},
     "output_type": "execute_result"
    },
    {
     "data": {
      "image/png": "[encoded data removed]",
      "text/plain": [
       "<Figure size 432x288 with 1 Axes>"
      ]
     },
     "metadata": {
      "needs_background": "light"
     },
     "output_type": "display_data"
    }
   ],
   "source": [
    "plt.plot('income',data=df)"
   ]
  },
  {
   "cell_type": "code",
   "execution_count": 24,
   "id": "d3a4ffc3",
   "metadata": {},
   "outputs": [
    {
     "data": {
      "text/plain": [
       "[<matplotlib.lines.Line2D at 0x1e7a7f214f0>]"
      ]
     },
     "execution_count": 24,
     "metadata": {},
     "output_type": "execute_result"
    },
    {
     "data": {
      "image/png": "[encoded data removed]",
      "text/plain": [
       "<Figure size 648x432 with 1 Axes>"
      ]
     },
     "metadata": {
      "needs_background": "light"
     },
     "output_type": "display_data"
    }
   ],
   "source": [
    "plt.figure(figsize=(9,6))\n",
    "plt.plot('health',data=df)"
   ]
  },
  {
   "cell_type": "code",
   "execution_count": 25,
   "id": "dd0a5c1a",
   "metadata": {},
   "outputs": [
    {
     "data": {
      "text/plain": [
       "<matplotlib.collections.PathCollection at 0x1e7a7f83e50>"
      ]
     },
     "execution_count": 25,
     "metadata": {},
     "output_type": "execute_result"
    },
    {
     "data": {
      "image/png": "[encoded data removed]",
      "text/plain": [
       "<Figure size 432x288 with 1 Axes>"
      ]
     },
     "metadata": {
      "needs_background": "light"
     },
     "output_type": "display_data"
    }
   ],
   "source": [
    "plt.scatter(x='gdpp',y='income',data=df)"
   ]
  },
  {
   "cell_type": "code",
   "execution_count": 26,
   "id": "f2a35e0a",
   "metadata": {},
   "outputs": [],
   "source": [
    "\n",
    "data=scaled_df.drop('country',axis=1)"
   ]
  },
  {
   "cell_type": "code",
   "execution_count": 27,
   "id": "c336503c",
   "metadata": {},
   "outputs": [
    {
     "data": {
      "text/html": [
       "<div>\n",
       "<style scoped>\n",
       "    .dataframe tbody tr th:only-of-type {\n",
       "        vertical-align: middle;\n",
       "    }\n",
       "\n",
       "    .dataframe tbody tr th {\n",
       "        vertical-align: top;\n",
       "    }\n",
       "\n",
       "    .dataframe thead th {\n",
       "        text-align: right;\n",
       "    }\n",
       "</style>\n",
       "<table border=\"1\" class=\"dataframe\">\n",
       "  <thead>\n",
       "    <tr style=\"text-align: right;\">\n",
       "      <th></th>\n",
       "      <th>child_mort</th>\n",
       "      <th>exports</th>\n",
       "      <th>health</th>\n",
       "      <th>imports</th>\n",
       "      <th>income</th>\n",
       "      <th>inflation</th>\n",
       "      <th>life_expec</th>\n",
       "      <th>total_fer</th>\n",
       "      <th>gdpp</th>\n",
       "    </tr>\n",
       "  </thead>\n",
       "  <tbody>\n",
       "    <tr>\n",
       "      <th>0</th>\n",
       "      <td>0.426485</td>\n",
       "      <td>0.049482</td>\n",
       "      <td>0.358608</td>\n",
       "      <td>0.257765</td>\n",
       "      <td>0.008047</td>\n",
       "      <td>0.126144</td>\n",
       "      <td>0.475345</td>\n",
       "      <td>0.736593</td>\n",
       "      <td>0.003073</td>\n",
       "    </tr>\n",
       "    <tr>\n",
       "      <th>1</th>\n",
       "      <td>0.068160</td>\n",
       "      <td>0.139531</td>\n",
       "      <td>0.294593</td>\n",
       "      <td>0.279037</td>\n",
       "      <td>0.074933</td>\n",
       "      <td>0.080399</td>\n",
       "      <td>0.871795</td>\n",
       "      <td>0.078864</td>\n",
       "      <td>0.036833</td>\n",
       "    </tr>\n",
       "    <tr>\n",
       "      <th>2</th>\n",
       "      <td>0.120253</td>\n",
       "      <td>0.191559</td>\n",
       "      <td>0.146675</td>\n",
       "      <td>0.180149</td>\n",
       "      <td>0.098809</td>\n",
       "      <td>0.187691</td>\n",
       "      <td>0.875740</td>\n",
       "      <td>0.274448</td>\n",
       "      <td>0.040365</td>\n",
       "    </tr>\n",
       "    <tr>\n",
       "      <th>3</th>\n",
       "      <td>0.566699</td>\n",
       "      <td>0.311125</td>\n",
       "      <td>0.064636</td>\n",
       "      <td>0.246266</td>\n",
       "      <td>0.042535</td>\n",
       "      <td>0.245911</td>\n",
       "      <td>0.552268</td>\n",
       "      <td>0.790221</td>\n",
       "      <td>0.031488</td>\n",
       "    </tr>\n",
       "    <tr>\n",
       "      <th>4</th>\n",
       "      <td>0.037488</td>\n",
       "      <td>0.227079</td>\n",
       "      <td>0.262275</td>\n",
       "      <td>0.338255</td>\n",
       "      <td>0.148652</td>\n",
       "      <td>0.052213</td>\n",
       "      <td>0.881657</td>\n",
       "      <td>0.154574</td>\n",
       "      <td>0.114242</td>\n",
       "    </tr>\n",
       "    <tr>\n",
       "      <th>...</th>\n",
       "      <td>...</td>\n",
       "      <td>...</td>\n",
       "      <td>...</td>\n",
       "      <td>...</td>\n",
       "      <td>...</td>\n",
       "      <td>...</td>\n",
       "      <td>...</td>\n",
       "      <td>...</td>\n",
       "      <td>...</td>\n",
       "    </tr>\n",
       "    <tr>\n",
       "      <th>162</th>\n",
       "      <td>0.129503</td>\n",
       "      <td>0.232582</td>\n",
       "      <td>0.213797</td>\n",
       "      <td>0.302609</td>\n",
       "      <td>0.018820</td>\n",
       "      <td>0.063118</td>\n",
       "      <td>0.609467</td>\n",
       "      <td>0.370662</td>\n",
       "      <td>0.026143</td>\n",
       "    </tr>\n",
       "    <tr>\n",
       "      <th>163</th>\n",
       "      <td>0.070594</td>\n",
       "      <td>0.142032</td>\n",
       "      <td>0.192666</td>\n",
       "      <td>0.100809</td>\n",
       "      <td>0.127750</td>\n",
       "      <td>0.463081</td>\n",
       "      <td>0.854043</td>\n",
       "      <td>0.208202</td>\n",
       "      <td>0.126650</td>\n",
       "    </tr>\n",
       "    <tr>\n",
       "      <th>164</th>\n",
       "      <td>0.100779</td>\n",
       "      <td>0.359651</td>\n",
       "      <td>0.312617</td>\n",
       "      <td>0.460715</td>\n",
       "      <td>0.031200</td>\n",
       "      <td>0.150725</td>\n",
       "      <td>0.808679</td>\n",
       "      <td>0.126183</td>\n",
       "      <td>0.010299</td>\n",
       "    </tr>\n",
       "    <tr>\n",
       "      <th>165</th>\n",
       "      <td>0.261441</td>\n",
       "      <td>0.149536</td>\n",
       "      <td>0.209447</td>\n",
       "      <td>0.197397</td>\n",
       "      <td>0.031120</td>\n",
       "      <td>0.257000</td>\n",
       "      <td>0.698225</td>\n",
       "      <td>0.555205</td>\n",
       "      <td>0.010299</td>\n",
       "    </tr>\n",
       "    <tr>\n",
       "      <th>166</th>\n",
       "      <td>0.391918</td>\n",
       "      <td>0.184556</td>\n",
       "      <td>0.253574</td>\n",
       "      <td>0.177275</td>\n",
       "      <td>0.021473</td>\n",
       "      <td>0.168284</td>\n",
       "      <td>0.392505</td>\n",
       "      <td>0.670347</td>\n",
       "      <td>0.011731</td>\n",
       "    </tr>\n",
       "  </tbody>\n",
       "</table>\n",
       "<p>167 rows × 9 columns</p>\n",
       "</div>"
      ],
      "text/plain": [
       "     child_mort   exports    health   imports    income  inflation  \\\n",
       "0      0.426485  0.049482  0.358608  0.257765  0.008047   0.126144   \n",
       "1      0.068160  0.139531  0.294593  0.279037  0.074933   0.080399   \n",
       "2      0.120253  0.191559  0.146675  0.180149  0.098809   0.187691   \n",
       "3      0.566699  0.311125  0.064636  0.246266  0.042535   0.245911   \n",
       "4      0.037488  0.227079  0.262275  0.338255  0.148652   0.052213   \n",
       "..          ...       ...       ...       ...       ...        ...   \n",
       "162    0.129503  0.232582  0.213797  0.302609  0.018820   0.063118   \n",
       "163    0.070594  0.142032  0.192666  0.100809  0.127750   0.463081   \n",
       "164    0.100779  0.359651  0.312617  0.460715  0.031200   0.150725   \n",
       "165    0.261441  0.149536  0.209447  0.197397  0.031120   0.257000   \n",
       "166    0.391918  0.184556  0.253574  0.177275  0.021473   0.168284   \n",
       "\n",
       "     life_expec  total_fer      gdpp  \n",
       "0      0.475345   0.736593  0.003073  \n",
       "1      0.871795   0.078864  0.036833  \n",
       "2      0.875740   0.274448  0.040365  \n",
       "3      0.552268   0.790221  0.031488  \n",
       "4      0.881657   0.154574  0.114242  \n",
       "..          ...        ...       ...  \n",
       "162    0.609467   0.370662  0.026143  \n",
       "163    0.854043   0.208202  0.126650  \n",
       "164    0.808679   0.126183  0.010299  \n",
       "165    0.698225   0.555205  0.010299  \n",
       "166    0.392505   0.670347  0.011731  \n",
       "\n",
       "[167 rows x 9 columns]"
      ]
     },
     "execution_count": 27,
     "metadata": {},
     "output_type": "execute_result"
    }
   ],
   "source": [
    "data\n"
   ]
  },
  {
   "cell_type": "markdown",
   "id": "f9ebce1c",
   "metadata": {},
   "source": [
    "# wss choose the value of k "
   ]
  },
  {
   "cell_type": "code",
   "execution_count": 28,
   "id": "d7a6603a",
   "metadata": {},
   "outputs": [
    {
     "name": "stderr",
     "output_type": "stream",
     "text": [
      "C:\\Users\\Ajit\\anaconda3\\lib\\site-packages\\sklearn\\cluster\\_kmeans.py:881: UserWarning: KMeans is known to have a memory leak on Windows with MKL, when there are less chunks than available threads. You can avoid it by setting the environment variable OMP_NUM_THREADS=1.\n",
      "  warnings.warn(\n"
     ]
    }
   ],
   "source": [
    "ssd = []\n",
    "K = range(1,10)\n",
    "for k in K:\n",
    "    km = KMeans(n_clusters= k)\n",
    "    km = km.fit(data)\n",
    "    ssd.append(km.inertia_)"
   ]
  },
  {
   "cell_type": "markdown",
   "id": "a148dba2",
   "metadata": {},
   "source": [
    "# now code to see clusters graph"
   ]
  },
  {
   "cell_type": "code",
   "execution_count": 29,
   "id": "0963da50",
   "metadata": {},
   "outputs": [
    {
     "data": {
      "text/plain": [
       "Text(0.5, 1.0, 'Elbow Method')"
      ]
     },
     "execution_count": 29,
     "metadata": {},
     "output_type": "execute_result"
    },
    {
     "data": {
      "image/png": "[encoded data removed]",
      "text/plain": [
       "<Figure size 648x432 with 1 Axes>"
      ]
     },
     "metadata": {
      "needs_background": "light"
     },
     "output_type": "display_data"
    }
   ],
   "source": [
    "plt.figure(figsize=(9,6))\n",
    "plt.plot(K,ssd,'bx-')\n",
    "plt.xlabel('k')\n",
    "plt.ylabel('ssd')\n",
    "plt.title(\"Elbow Method\")\n"
   ]
  },
  {
   "cell_type": "code",
   "execution_count": 30,
   "id": "40565f66",
   "metadata": {},
   "outputs": [],
   "source": [
    "\n",
    "kmean=KMeans(n_clusters=4)"
   ]
  },
  {
   "cell_type": "code",
   "execution_count": 31,
   "id": "45a593cc",
   "metadata": {},
   "outputs": [
    {
     "data": {
      "text/plain": [
       "KMeans(n_clusters=4)"
      ]
     },
     "execution_count": 31,
     "metadata": {},
     "output_type": "execute_result"
    }
   ],
   "source": [
    "kmean.fit(data)"
   ]
  },
  {
   "cell_type": "code",
   "execution_count": 32,
   "id": "fdf40214",
   "metadata": {},
   "outputs": [],
   "source": [
    "pred=kmean.labels_ "
   ]
  },
  {
   "cell_type": "code",
   "execution_count": 33,
   "id": "824c1263",
   "metadata": {},
   "outputs": [
    {
     "data": {
      "text/plain": [
       "array([1, 2, 2, 1, 2, 2, 2, 3, 3, 2, 2, 2, 2, 2, 2, 3, 2, 1, 2, 2, 2, 2,\n",
       "       2, 0, 2, 1, 1, 2, 1, 3, 2, 1, 1, 2, 2, 2, 1, 1, 1, 2, 1, 2, 3, 2,\n",
       "       3, 2, 2, 2, 2, 1, 1, 2, 2, 3, 3, 1, 1, 2, 3, 1, 3, 2, 2, 1, 1, 2,\n",
       "       1, 2, 3, 2, 2, 2, 1, 0, 3, 3, 2, 3, 2, 2, 1, 1, 0, 2, 1, 2, 2, 1,\n",
       "       1, 2, 2, 0, 2, 1, 1, 2, 2, 1, 0, 1, 2, 2, 2, 2, 2, 2, 1, 2, 1, 2,\n",
       "       3, 3, 1, 1, 3, 2, 1, 2, 2, 2, 2, 2, 3, 0, 2, 2, 1, 2, 2, 1, 2, 2,\n",
       "       1, 0, 2, 3, 1, 2, 2, 3, 2, 2, 1, 2, 3, 3, 2, 1, 2, 1, 1, 2, 2, 2,\n",
       "       2, 1, 2, 0, 3, 3, 2, 2, 2, 2, 2, 1, 1])"
      ]
     },
     "execution_count": 33,
     "metadata": {},
     "output_type": "execute_result"
    }
   ],
   "source": [
    "pred"
   ]
  },
  {
   "cell_type": "markdown",
   "id": "4112cc6c",
   "metadata": {},
   "source": [
    "# # make scatter plot for this.\n",
    "# x = gdpp\n",
    "# y = income\n"
   ]
  },
  {
   "cell_type": "code",
   "execution_count": 34,
   "id": "b5c626ac",
   "metadata": {},
   "outputs": [
    {
     "data": {
      "text/plain": [
       "<matplotlib.collections.PathCollection at 0x1e7a861fca0>"
      ]
     },
     "execution_count": 34,
     "metadata": {},
     "output_type": "execute_result"
    },
    {
     "data": {
      "image/png": "[encoded data removed]",
      "text/plain": [
       "<Figure size 432x288 with 1 Axes>"
      ]
     },
     "metadata": {
      "needs_background": "light"
     },
     "output_type": "display_data"
    }
   ],
   "source": [
    "plt.scatter(x='gdpp',y='income',data=df)"
   ]
  },
  {
   "cell_type": "markdown",
   "id": "dede6738",
   "metadata": {},
   "source": [
    "# import PCA"
   ]
  },
  {
   "cell_type": "code",
   "execution_count": 35,
   "id": "5a0817e9",
   "metadata": {},
   "outputs": [],
   "source": [
    "from sklearn.decomposition import PCA\n"
   ]
  },
  {
   "cell_type": "code",
   "execution_count": 36,
   "id": "2f7a05a8",
   "metadata": {},
   "outputs": [],
   "source": [
    "pca=PCA(n_components=4)\n",
    "pca_model=pca.fit_transform(data)"
   ]
  },
  {
   "cell_type": "code",
   "execution_count": 37,
   "id": "0f76cae0",
   "metadata": {},
   "outputs": [],
   "source": [
    "data_transform = pd.DataFrame(data=pca_model,columns=['PCA1','PCA2','PCA3','PCA4'])"
   ]
  },
  {
   "cell_type": "code",
   "execution_count": 38,
   "id": "bf071f24",
   "metadata": {},
   "outputs": [
    {
     "data": {
      "text/html": [
       "<div>\n",
       "<style scoped>\n",
       "    .dataframe tbody tr th:only-of-type {\n",
       "        vertical-align: middle;\n",
       "    }\n",
       "\n",
       "    .dataframe tbody tr th {\n",
       "        vertical-align: top;\n",
       "    }\n",
       "\n",
       "    .dataframe thead th {\n",
       "        text-align: right;\n",
       "    }\n",
       "</style>\n",
       "<table border=\"1\" class=\"dataframe\">\n",
       "  <thead>\n",
       "    <tr style=\"text-align: right;\">\n",
       "      <th></th>\n",
       "      <th>PCA1</th>\n",
       "      <th>PCA2</th>\n",
       "      <th>PCA3</th>\n",
       "      <th>PCA4</th>\n",
       "    </tr>\n",
       "  </thead>\n",
       "  <tbody>\n",
       "    <tr>\n",
       "      <th>0</th>\n",
       "      <td>-0.599078</td>\n",
       "      <td>0.095490</td>\n",
       "      <td>0.157554</td>\n",
       "      <td>-0.024333</td>\n",
       "    </tr>\n",
       "    <tr>\n",
       "      <th>1</th>\n",
       "      <td>0.158474</td>\n",
       "      <td>-0.212092</td>\n",
       "      <td>-0.064189</td>\n",
       "      <td>-0.061247</td>\n",
       "    </tr>\n",
       "    <tr>\n",
       "      <th>2</th>\n",
       "      <td>0.003686</td>\n",
       "      <td>-0.135867</td>\n",
       "      <td>-0.134182</td>\n",
       "      <td>0.133574</td>\n",
       "    </tr>\n",
       "    <tr>\n",
       "      <th>3</th>\n",
       "      <td>-0.650235</td>\n",
       "      <td>0.275975</td>\n",
       "      <td>-0.142672</td>\n",
       "      <td>0.156018</td>\n",
       "    </tr>\n",
       "    <tr>\n",
       "      <th>4</th>\n",
       "      <td>0.200711</td>\n",
       "      <td>-0.064662</td>\n",
       "      <td>-0.100715</td>\n",
       "      <td>-0.037902</td>\n",
       "    </tr>\n",
       "    <tr>\n",
       "      <th>...</th>\n",
       "      <td>...</td>\n",
       "      <td>...</td>\n",
       "      <td>...</td>\n",
       "      <td>...</td>\n",
       "    </tr>\n",
       "    <tr>\n",
       "      <th>162</th>\n",
       "      <td>-0.160078</td>\n",
       "      <td>-0.029625</td>\n",
       "      <td>-0.121910</td>\n",
       "      <td>-0.066099</td>\n",
       "    </tr>\n",
       "    <tr>\n",
       "      <th>163</th>\n",
       "      <td>0.061133</td>\n",
       "      <td>-0.171339</td>\n",
       "      <td>-0.058586</td>\n",
       "      <td>0.247460</td>\n",
       "    </tr>\n",
       "    <tr>\n",
       "      <th>164</th>\n",
       "      <td>0.115512</td>\n",
       "      <td>-0.032034</td>\n",
       "      <td>-0.195243</td>\n",
       "      <td>-0.231993</td>\n",
       "    </tr>\n",
       "    <tr>\n",
       "      <th>165</th>\n",
       "      <td>-0.332968</td>\n",
       "      <td>-0.019824</td>\n",
       "      <td>-0.029989</td>\n",
       "      <td>0.105416</td>\n",
       "    </tr>\n",
       "    <tr>\n",
       "      <th>166</th>\n",
       "      <td>-0.573897</td>\n",
       "      <td>0.108788</td>\n",
       "      <td>0.032552</td>\n",
       "      <td>0.044839</td>\n",
       "    </tr>\n",
       "  </tbody>\n",
       "</table>\n",
       "<p>167 rows × 4 columns</p>\n",
       "</div>"
      ],
      "text/plain": [
       "         PCA1      PCA2      PCA3      PCA4\n",
       "0   -0.599078  0.095490  0.157554 -0.024333\n",
       "1    0.158474 -0.212092 -0.064189 -0.061247\n",
       "2    0.003686 -0.135867 -0.134182  0.133574\n",
       "3   -0.650235  0.275975 -0.142672  0.156018\n",
       "4    0.200711 -0.064662 -0.100715 -0.037902\n",
       "..        ...       ...       ...       ...\n",
       "162 -0.160078 -0.029625 -0.121910 -0.066099\n",
       "163  0.061133 -0.171339 -0.058586  0.247460\n",
       "164  0.115512 -0.032034 -0.195243 -0.231993\n",
       "165 -0.332968 -0.019824 -0.029989  0.105416\n",
       "166 -0.573897  0.108788  0.032552  0.044839\n",
       "\n",
       "[167 rows x 4 columns]"
      ]
     },
     "execution_count": 38,
     "metadata": {},
     "output_type": "execute_result"
    }
   ],
   "source": [
    "data_transform"
   ]
  },
  {
   "cell_type": "code",
   "execution_count": 39,
   "id": "b3e27293",
   "metadata": {},
   "outputs": [],
   "source": [
    "from sklearn.linear_model import LogisticRegression"
   ]
  },
  {
   "cell_type": "code",
   "execution_count": 40,
   "id": "bed83127",
   "metadata": {},
   "outputs": [],
   "source": [
    "lr=LogisticRegression()"
   ]
  },
  {
   "cell_type": "code",
   "execution_count": 41,
   "id": "e0e5e6d1",
   "metadata": {},
   "outputs": [
    {
     "data": {
      "text/plain": [
       "LogisticRegression()"
      ]
     },
     "execution_count": 41,
     "metadata": {},
     "output_type": "execute_result"
    }
   ],
   "source": [
    "lr"
   ]
  },
  {
   "cell_type": "code",
   "execution_count": 42,
   "id": "179600a9",
   "metadata": {},
   "outputs": [
    {
     "data": {
      "text/plain": [
       "Index(['country', 'child_mort', 'exports', 'health', 'imports', 'income',\n",
       "       'inflation', 'life_expec', 'total_fer', 'gdpp'],\n",
       "      dtype='object')"
      ]
     },
     "execution_count": 42,
     "metadata": {},
     "output_type": "execute_result"
    }
   ],
   "source": [
    "df.columns"
   ]
  },
  {
   "cell_type": "code",
   "execution_count": 43,
   "id": "800d03ec",
   "metadata": {},
   "outputs": [],
   "source": [
    "from sklearn.model_selection import train_test_split"
   ]
  },
  {
   "cell_type": "code",
   "execution_count": 44,
   "id": "fd8702b5",
   "metadata": {},
   "outputs": [],
   "source": [
    "X=df[['child_mort', 'exports', 'health', 'imports', 'income',\n",
    "       'inflation', 'life_expec', 'total_fer']]"
   ]
  },
  {
   "cell_type": "code",
   "execution_count": 45,
   "id": "53e6ffb7",
   "metadata": {},
   "outputs": [],
   "source": [
    "y=df[['gdpp']]"
   ]
  },
  {
   "cell_type": "code",
   "execution_count": 46,
   "id": "5d55d343",
   "metadata": {},
   "outputs": [],
   "source": [
    "X_train,X_test,y_train,y_test=train_test_split(X,y,test_size=0.25,random_state=101)"
   ]
  },
  {
   "cell_type": "code",
   "execution_count": 47,
   "id": "1a649234",
   "metadata": {},
   "outputs": [
    {
     "data": {
      "text/html": [
       "<div>\n",
       "<style scoped>\n",
       "    .dataframe tbody tr th:only-of-type {\n",
       "        vertical-align: middle;\n",
       "    }\n",
       "\n",
       "    .dataframe tbody tr th {\n",
       "        vertical-align: top;\n",
       "    }\n",
       "\n",
       "    .dataframe thead th {\n",
       "        text-align: right;\n",
       "    }\n",
       "</style>\n",
       "<table border=\"1\" class=\"dataframe\">\n",
       "  <thead>\n",
       "    <tr style=\"text-align: right;\">\n",
       "      <th></th>\n",
       "      <th>child_mort</th>\n",
       "      <th>exports</th>\n",
       "      <th>health</th>\n",
       "      <th>imports</th>\n",
       "      <th>income</th>\n",
       "      <th>inflation</th>\n",
       "      <th>life_expec</th>\n",
       "      <th>total_fer</th>\n",
       "    </tr>\n",
       "  </thead>\n",
       "  <tbody>\n",
       "    <tr>\n",
       "      <th>13</th>\n",
       "      <td>14.2</td>\n",
       "      <td>39.5</td>\n",
       "      <td>7.97</td>\n",
       "      <td>48.7</td>\n",
       "      <td>15300</td>\n",
       "      <td>0.321</td>\n",
       "      <td>76.7</td>\n",
       "      <td>1.78</td>\n",
       "    </tr>\n",
       "    <tr>\n",
       "      <th>85</th>\n",
       "      <td>7.8</td>\n",
       "      <td>53.7</td>\n",
       "      <td>6.68</td>\n",
       "      <td>55.1</td>\n",
       "      <td>18300</td>\n",
       "      <td>-0.812</td>\n",
       "      <td>73.1</td>\n",
       "      <td>1.36</td>\n",
       "    </tr>\n",
       "    <tr>\n",
       "      <th>25</th>\n",
       "      <td>116.0</td>\n",
       "      <td>19.2</td>\n",
       "      <td>6.74</td>\n",
       "      <td>29.6</td>\n",
       "      <td>1430</td>\n",
       "      <td>6.810</td>\n",
       "      <td>57.9</td>\n",
       "      <td>5.87</td>\n",
       "    </tr>\n",
       "    <tr>\n",
       "      <th>84</th>\n",
       "      <td>78.9</td>\n",
       "      <td>35.4</td>\n",
       "      <td>4.47</td>\n",
       "      <td>49.3</td>\n",
       "      <td>3980</td>\n",
       "      <td>9.200</td>\n",
       "      <td>63.8</td>\n",
       "      <td>3.15</td>\n",
       "    </tr>\n",
       "    <tr>\n",
       "      <th>153</th>\n",
       "      <td>19.1</td>\n",
       "      <td>20.4</td>\n",
       "      <td>6.74</td>\n",
       "      <td>25.5</td>\n",
       "      <td>18000</td>\n",
       "      <td>7.010</td>\n",
       "      <td>78.2</td>\n",
       "      <td>2.15</td>\n",
       "    </tr>\n",
       "    <tr>\n",
       "      <th>...</th>\n",
       "      <td>...</td>\n",
       "      <td>...</td>\n",
       "      <td>...</td>\n",
       "      <td>...</td>\n",
       "      <td>...</td>\n",
       "      <td>...</td>\n",
       "      <td>...</td>\n",
       "      <td>...</td>\n",
       "    </tr>\n",
       "    <tr>\n",
       "      <th>63</th>\n",
       "      <td>109.0</td>\n",
       "      <td>30.3</td>\n",
       "      <td>4.93</td>\n",
       "      <td>43.2</td>\n",
       "      <td>1190</td>\n",
       "      <td>16.100</td>\n",
       "      <td>58.0</td>\n",
       "      <td>5.34</td>\n",
       "    </tr>\n",
       "    <tr>\n",
       "      <th>70</th>\n",
       "      <td>33.3</td>\n",
       "      <td>24.3</td>\n",
       "      <td>2.61</td>\n",
       "      <td>22.4</td>\n",
       "      <td>8430</td>\n",
       "      <td>15.300</td>\n",
       "      <td>69.9</td>\n",
       "      <td>2.48</td>\n",
       "    </tr>\n",
       "    <tr>\n",
       "      <th>81</th>\n",
       "      <td>62.7</td>\n",
       "      <td>13.3</td>\n",
       "      <td>11.30</td>\n",
       "      <td>79.9</td>\n",
       "      <td>1730</td>\n",
       "      <td>1.520</td>\n",
       "      <td>60.7</td>\n",
       "      <td>3.84</td>\n",
       "    </tr>\n",
       "    <tr>\n",
       "      <th>11</th>\n",
       "      <td>8.6</td>\n",
       "      <td>69.5</td>\n",
       "      <td>4.97</td>\n",
       "      <td>50.9</td>\n",
       "      <td>41100</td>\n",
       "      <td>7.440</td>\n",
       "      <td>76.0</td>\n",
       "      <td>2.16</td>\n",
       "    </tr>\n",
       "    <tr>\n",
       "      <th>95</th>\n",
       "      <td>7.9</td>\n",
       "      <td>86.9</td>\n",
       "      <td>4.39</td>\n",
       "      <td>71.0</td>\n",
       "      <td>21100</td>\n",
       "      <td>7.270</td>\n",
       "      <td>74.5</td>\n",
       "      <td>2.15</td>\n",
       "    </tr>\n",
       "  </tbody>\n",
       "</table>\n",
       "<p>125 rows × 8 columns</p>\n",
       "</div>"
      ],
      "text/plain": [
       "     child_mort  exports  health  imports  income  inflation  life_expec  \\\n",
       "13         14.2     39.5    7.97     48.7   15300      0.321        76.7   \n",
       "85          7.8     53.7    6.68     55.1   18300     -0.812        73.1   \n",
       "25        116.0     19.2    6.74     29.6    1430      6.810        57.9   \n",
       "84         78.9     35.4    4.47     49.3    3980      9.200        63.8   \n",
       "153        19.1     20.4    6.74     25.5   18000      7.010        78.2   \n",
       "..          ...      ...     ...      ...     ...        ...         ...   \n",
       "63        109.0     30.3    4.93     43.2    1190     16.100        58.0   \n",
       "70         33.3     24.3    2.61     22.4    8430     15.300        69.9   \n",
       "81         62.7     13.3   11.30     79.9    1730      1.520        60.7   \n",
       "11          8.6     69.5    4.97     50.9   41100      7.440        76.0   \n",
       "95          7.9     86.9    4.39     71.0   21100      7.270        74.5   \n",
       "\n",
       "     total_fer  \n",
       "13        1.78  \n",
       "85        1.36  \n",
       "25        5.87  \n",
       "84        3.15  \n",
       "153       2.15  \n",
       "..         ...  \n",
       "63        5.34  \n",
       "70        2.48  \n",
       "81        3.84  \n",
       "11        2.16  \n",
       "95        2.15  \n",
       "\n",
       "[125 rows x 8 columns]"
      ]
     },
     "execution_count": 47,
     "metadata": {},
     "output_type": "execute_result"
    }
   ],
   "source": [
    "X_train"
   ]
  },
  {
   "cell_type": "code",
   "execution_count": 48,
   "id": "cec2a5da",
   "metadata": {},
   "outputs": [],
   "source": [
    "from sklearn.metrics import confusion_matrix, classification_report,accuracy_score"
   ]
  },
  {
   "cell_type": "code",
   "execution_count": 50,
   "id": "bbe27d79",
   "metadata": {},
   "outputs": [
    {
     "name": "stderr",
     "output_type": "stream",
     "text": [
      "C:\\Users\\Ajit\\anaconda3\\lib\\site-packages\\sklearn\\utils\\validation.py:63: DataConversionWarning: A column-vector y was passed when a 1d array was expected. Please change the shape of y to (n_samples, ), for example using ravel().\n",
      "  return f(*args, **kwargs)\n",
      "C:\\Users\\Ajit\\anaconda3\\lib\\site-packages\\sklearn\\linear_model\\_logistic.py:763: ConvergenceWarning: lbfgs failed to converge (status=1):\n",
      "STOP: TOTAL NO. of ITERATIONS REACHED LIMIT.\n",
      "\n",
      "Increase the number of iterations (max_iter) or scale the data as shown in:\n",
      "    https://scikit-learn.org/stable/modules/preprocessing.html\n",
      "Please also refer to the documentation for alternative solver options:\n",
      "    https://scikit-learn.org/stable/modules/linear_model.html#logistic-regression\n",
      "  n_iter_i = _check_optimize_result(\n"
     ]
    },
    {
     "data": {
      "text/plain": [
       "LogisticRegression()"
      ]
     },
     "execution_count": 50,
     "metadata": {},
     "output_type": "execute_result"
    }
   ],
   "source": [
    "lr.fit(X_train,y_train)"
   ]
  },
  {
   "cell_type": "code",
   "execution_count": 55,
   "id": "2efcafb6",
   "metadata": {},
   "outputs": [],
   "source": [
    "pred=lr.predict(X_train)"
   ]
  },
  {
   "cell_type": "code",
   "execution_count": 56,
   "id": "e053d4b8",
   "metadata": {},
   "outputs": [
    {
     "data": {
      "text/plain": [
       "array([  9070,  46600,   1310,   1310,  19300,   1310,   1310,  46600,\n",
       "        46600,  46600,   1310,  46600,  19300,  21100,   1310,   9070,\n",
       "        19300,  19300,  46600,   1310,  19300,   1310,   1310,   9070,\n",
       "         1310,  46600,   1310,  35300,  19300,   1310,   1310,  46600,\n",
       "        19300,  46600,   1310,   9070, 105000,   1310,   9070,   1310,\n",
       "         9070,   1310,  19300,   9070,   9070,   9070,   9070,   1310,\n",
       "        19300,   9070,   9070,   1310,   1310,   9070,  46600,   1310,\n",
       "         9070,   1310,   1310,   1310,   9070,   9070,   1310,   1310,\n",
       "         9070,   1310,   1310,  19300,  19300,   1310,   1310,   1310,\n",
       "         1310,   9070, 105000,   9070,  19300,   1310,   9070, 105000,\n",
       "         1310,   1310,   1310,   1310,   1310,  19300,  19300,  21100,\n",
       "         1310,   1310,   1310,  19300,   1310,  19300,   1310,   1310,\n",
       "         9070,  19300,   1310,   1310,   9070,  19300,   1310,   1310,\n",
       "        19300,   1310,  19300,   1310,  17100,  19300,   9070,  19300,\n",
       "        19300,  19300,   1310,   1310,   1310,  17100,  19300,   1310,\n",
       "         1310,   9070,   1310,  19300,  46600], dtype=int64)"
      ]
     },
     "execution_count": 56,
     "metadata": {},
     "output_type": "execute_result"
    }
   ],
   "source": [
    "pred"
   ]
  },
  {
   "cell_type": "code",
   "execution_count": null,
   "id": "547fc9e4",
   "metadata": {},
   "outputs": [],
   "source": []
  }
 ],
 "metadata": {
  "kernelspec": {
   "display_name": "Python 3 (ipykernel)",
   "language": "python",
   "name": "python3"
  },
  "language_info": {
   "codemirror_mode": {
    "name": "ipython",
    "version": 3
   },
   "file_extension": ".py",
   "mimetype": "text/x-python",
   "name": "python",
   "nbconvert_exporter": "python",
   "pygments_lexer": "ipython3",
   "version": "3.9.7"
  }
 },
 "nbformat": 4,
 "nbformat_minor": 5
}
